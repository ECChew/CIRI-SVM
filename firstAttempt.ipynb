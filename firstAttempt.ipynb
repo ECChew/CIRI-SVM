{
 "cells": [
  {
   "cell_type": "code",
   "execution_count": null,
   "metadata": {
    "collapsed": true,
    "pycharm": {
     "is_executing": false
    }
   },
   "outputs": [],
   "source": [
    "import numpy as np\n",
    "import pandas as pd\n",
    "import os\n",
    "import cv2\n",
    "import matplotlib.pyplot as plt\n",
    "import matplotlib.patches as patches\n",
    "import random\n",
    "from sklearn.utils import shuffle\n",
    "from tqdm import tqdm_notebook\n",
    "\n",
    "data = pd.read_csv('dataset/train_labels.csv')\n",
    "train_path = 'dataset/train/'\n",
    "test_path = 'dataset/test/'\n",
    "# quick look at the label stats\n",
    "data['label'].value_counts()\n",
    "print(type(data['label'][0]))\n",
    "datamat = data.to_numpy()\n",
    "print(datamat.shape)\n",
    "#trainlen = int(len(datamat[:]) * 0.9)\n",
    "trainlen = 50\n",
    "#print(testlen)\n",
    "print(trainlen)"
   ]
  },
  {
   "cell_type": "code",
   "execution_count": null,
   "outputs": [],
   "source": [
    "def getLabels():\n",
    "    data = pd.read_csv('dataset/train_labels.csv')\n",
    "def readImage(path):\n",
    "    # OpenCV reads the image in bgr format by default\n",
    "    bgr_img = cv2.imread(path)\n",
    "    # We flip it to rgb for visualization purposes\n",
    "    b,g,r = cv2.split(bgr_img)\n",
    "    rgb_img = cv2.merge([r,g,b])\n",
    "    return rgb_img\n",
    "\n",
    "# random sampling\n",
    "shuffled_data = shuffle(data)\n",
    "\n",
    "fig, ax = plt.subplots(2,5, figsize=(20,8))\n",
    "fig.suptitle('Histopathologic scans of lymph node sections',fontsize=20)\n",
    "# Negatives\n",
    "for i, idx in enumerate(shuffled_data[shuffled_data['label'] == 0]['id'][:5]):\n",
    "    path = os.path.join(train_path, idx)\n",
    "    ax[0,i].imshow(readImage(path + '.tif'))\n",
    "    # Create a Rectangle patch\n",
    "    box = patches.Rectangle((32,32),32,32,linewidth=4,edgecolor='b',facecolor='none', linestyle=':', capstyle='round')\n",
    "    ax[0,i].add_patch(box)\n",
    "ax[0,0].set_ylabel('Negative samples', size='large')\n",
    "# Positives\n",
    "for i, idx in enumerate(shuffled_data[shuffled_data['label'] == 1]['id'][:5]):\n",
    "    path = os.path.join(train_path, idx)\n",
    "    ax[1,i].imshow(readImage(path + '.tif'))\n",
    "    # Create a Rectangle patch\n",
    "    box = patches.Rectangle((32,32),32,32,linewidth=4,edgecolor='r',facecolor='none', linestyle=':', capstyle='round')\n",
    "    ax[1,i].add_patch(box)\n",
    "ax[1,0].set_ylabel('Tumor tissue samples', size='large')\n"
   ],
   "metadata": {
    "collapsed": false,
    "pycharm": {
     "name": "#%%\n",
     "is_executing": false
    }
   }
  },
  {
   "cell_type": "code",
   "execution_count": null,
   "outputs": [],
   "source": [
    "\"\"\"\n",
    "##### Essai pour explorer les données\n",
    "print(i,idx)\n",
    "print(readImage(path + '.tif').shape)\n",
    "print(readImage(path + '.tif')[0,2,:])\n",
    "myCmd = 'du '+ path + '.tif'\n",
    "\"\"\""
   ],
   "metadata": {
    "collapsed": false,
    "pycharm": {
     "name": "#%%\n",
     "is_executing": false
    }
   }
  },
  {
   "cell_type": "code",
   "execution_count": null,
   "outputs": [],
   "source": [
    "import random\n",
    "ORIGINAL_SIZE = 96      # original size of the images - do not change\n",
    "\n",
    "# AUGMENTATION VARIABLES\n",
    "CROP_SIZE = 32          # final size after crop\n",
    "RANDOM_ROTATION = 0#3    # range (0-180), 180 allows all rotation variations, 0=no change\n",
    "RANDOM_SHIFT = 0#2        # center crop shift in x and y axes, 0=no change. This cannot be more than (ORIGINAL_SIZE - CROP_SIZE)//2 \n",
    "RANDOM_BRIGHTNESS = 0#7  # range (0-100), 0=no change\n",
    "RANDOM_CONTRAST = 0#5    # range (0-100), 0=no change\n",
    "RANDOM_90_DEG_TURN = 0#1  # 0 or 1= random turn to left or right\n",
    "\n",
    "def readCroppedImage2(path, augmentations = False):\n",
    "    # augmentations parameter is included for counting statistics from images, where we don't want augmentations\n",
    "    \n",
    "    # OpenCV reads the image in bgr format by default\n",
    "    bgr_img = cv2.imread(path)\n",
    "    # We flip it to rgb for visualization purposes\n",
    "    b,g,r = cv2.split(bgr_img)\n",
    "    rgb_img = cv2.merge([r,g,b])\n",
    "    \n",
    "    if(not augmentations):\n",
    "        return rgb_img / 255\n",
    "    \n",
    "    #random rotation\n",
    "    rotation = random.randint(-RANDOM_ROTATION,RANDOM_ROTATION)\n",
    "    if(RANDOM_90_DEG_TURN == 1):\n",
    "        rotation += random.randint(-1,1) * 90\n",
    "    M = cv2.getRotationMatrix2D((48,48),rotation,1)   # the center point is the rotation anchor\n",
    "    rgb_img = cv2.warpAffine(rgb_img,M,(96,96))\n",
    "    \n",
    "    #random x,y-shift\n",
    "    x = random.randint(-RANDOM_SHIFT, RANDOM_SHIFT)\n",
    "    y = random.randint(-RANDOM_SHIFT, RANDOM_SHIFT)\n",
    "    \n",
    "    # crop to center and normalize to 0-1 range\n",
    "    start_crop = (ORIGINAL_SIZE - CROP_SIZE) // 2\n",
    "    end_crop = start_crop + CROP_SIZE\n",
    "    rgb_img = rgb_img[(start_crop + x):(end_crop + x), (start_crop + y):(end_crop + y)] / 255\n",
    "    \n",
    "    # Random flip\n",
    "    flip_hor = bool(random.getrandbits(1))\n",
    "    flip_ver = bool(random.getrandbits(1))\n",
    "    if(flip_hor):\n",
    "        rgb_img = rgb_img[:, ::-1]\n",
    "    if(flip_ver):\n",
    "        rgb_img = rgb_img[::-1, :]\n",
    "        \n",
    "    # Random brightness\n",
    "    br = random.randint(-RANDOM_BRIGHTNESS, RANDOM_BRIGHTNESS) / 100.\n",
    "    rgb_img = rgb_img + br\n",
    "    \n",
    "    # Random contrast\n",
    "    cr = 1.0 + random.randint(-RANDOM_CONTRAST, RANDOM_CONTRAST) / 100.\n",
    "    rgb_img = rgb_img * cr\n",
    "    \n",
    "    # clip values to 0-1 range\n",
    "    rgb_img = np.clip(rgb_img, 0, 1.0)\n",
    "    return rgb_img\n",
    "\n",
    "\n",
    "def readCroppedImage(path, augmentations = False):\n",
    "    # augmentations parameter is included for counting statistics from images, where we don't want augmentations\n",
    "    \n",
    "    # OpenCV reads the image in bgr format by default\n",
    "    bgr_img = cv2.imread(path)\n",
    "    # We flip it to rgb for visualization purposes\n",
    "    b,g,r = cv2.split(bgr_img)\n",
    "    rgb_img = cv2.merge([r,g,b])\n",
    "    \n",
    "    if(not augmentations):\n",
    "         # crop to center and normalize to 0-1 range\n",
    "        start_crop = (ORIGINAL_SIZE - CROP_SIZE) // 2\n",
    "        end_crop = start_crop + CROP_SIZE\n",
    "        rgb_img = rgb_img[(start_crop ):(end_crop ), (start_crop ):(end_crop )] / 255\n",
    "        return rgb_img \n",
    "    \n",
    "    #random rotation\n",
    "    rotation = random.randint(-RANDOM_ROTATION,RANDOM_ROTATION)\n",
    "    if(RANDOM_90_DEG_TURN == 1):\n",
    "        rotation += random.randint(-1,1) * 90\n",
    "    M = cv2.getRotationMatrix2D((48,48),rotation,1)   # the center point is the rotation anchor\n",
    "    rgb_img = cv2.warpAffine(rgb_img,M,(96,96))\n",
    "    \n",
    "    #random x,y-shift\n",
    "    x = random.randint(-RANDOM_SHIFT, RANDOM_SHIFT)\n",
    "    y = random.randint(-RANDOM_SHIFT, RANDOM_SHIFT)\n",
    "    \n",
    "    # crop to center and normalize to 0-1 range\n",
    "    start_crop = (ORIGINAL_SIZE - CROP_SIZE) // 2\n",
    "    end_crop = start_crop + CROP_SIZE\n",
    "    rgb_img = rgb_img[(start_crop + x):(end_crop + x), (start_crop + y):(end_crop + y)] / 255\n",
    "    \n",
    "    # Random flip\n",
    "    flip_hor = bool(random.getrandbits(1))\n",
    "    flip_ver = bool(random.getrandbits(1))\n",
    "    if(flip_hor):\n",
    "        rgb_img = rgb_img[:, ::-1]\n",
    "    if(flip_ver):\n",
    "        rgb_img = rgb_img[::-1, :]\n",
    "        \n",
    "    # Random brightness\n",
    "    br = random.randint(-RANDOM_BRIGHTNESS, RANDOM_BRIGHTNESS) / 100.\n",
    "    rgb_img = rgb_img + br\n",
    "    \n",
    "    # Random contrast\n",
    "    cr = 1.0 + random.randint(-RANDOM_CONTRAST, RANDOM_CONTRAST) / 100.\n",
    "    rgb_img = rgb_img * cr\n",
    "    \n",
    "    # clip values to 0-1 range\n",
    "    rgb_img = np.clip(rgb_img, 0, 1.0)\n",
    "    return rgb_img"
   ],
   "metadata": {
    "collapsed": false,
    "pycharm": {
     "name": "#%%\n",
     "is_executing": false
    }
   }
  },
  {
   "cell_type": "code",
   "execution_count": null,
   "outputs": [],
   "source": [
    "\"\"\"\n",
    "fig, ax = plt.subplots(1,5, figsize=(20,4))\n",
    "fig.suptitle('Random augmentations to the same image',fontsize=20)\n",
    "# Negatives\n",
    "for i, idx in enumerate(shuffled_data[shuffled_data['label'] == 0]['id'][:1]):\n",
    "    for j in range(5):\n",
    "        path = os.path.join(train_path, idx)\n",
    "        ax[j].imshow(readCroppedImage(path + '.tif'))\n",
    "        if j == 4 :\n",
    "            print(readCroppedImage(path + '.tif'))\n",
    "\"\"\""
   ],
   "metadata": {
    "collapsed": false,
    "pycharm": {
     "name": "#%%\n",
     "is_executing": false
    }
   }
  },
  {
   "cell_type": "code",
   "execution_count": null,
   "outputs": [],
   "source": [
    "train_images = np.full((trainlen, 32, 32, 3), 0)\n",
    "for j in range(trainlen):\n",
    "    idx = datamat[j][0]\n",
    "    path = os.path.join(train_path, idx)\n",
    "    train_images[j] = readCroppedImage(path + '.tif')\n",
    "print('test')\n",
    "\n",
    "\n"
   ],
   "metadata": {
    "collapsed": false,
    "pycharm": {
     "name": "#%%\n",
     "is_executing": false
    }
   }
  }
 ],
 "metadata": {
  "kernelspec": {
   "display_name": "Python 3",
   "language": "python",
   "name": "python3"
  },
  "language_info": {
   "codemirror_mode": {
    "name": "ipython",
    "version": 2
   },
   "file_extension": ".py",
   "mimetype": "text/x-python",
   "name": "python",
   "nbconvert_exporter": "python",
   "pygments_lexer": "ipython2",
   "version": "2.7.6"
  },
  "pycharm": {
   "stem_cell": {
    "cell_type": "raw",
    "source": [],
    "metadata": {
     "collapsed": false
    }
   }
  }
 },
 "nbformat": 4,
 "nbformat_minor": 0
}