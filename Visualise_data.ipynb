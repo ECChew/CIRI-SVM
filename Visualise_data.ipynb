{
 "cells": [
  {
   "cell_type": "code",
   "execution_count": 2,
   "metadata": {
    "colab": {
     "base_uri": "https://localhost:8080/",
     "height": 451
    },
    "colab_type": "code",
    "id": "BytSHuiwqCsh",
    "outputId": "d8b6e30f-f5ec-4dbf-b91f-16ca735ac0cb",
    "pycharm": {
     "is_executing": false
    }
   },
   "outputs": [
    {
     "traceback": [
      "\u001b[1;31m---------------------------------------------------------------------------\u001b[0m",
      "\u001b[1;31mFileNotFoundError\u001b[0m                         Traceback (most recent call last)",
      "\u001b[1;32m<ipython-input-2-5ab8dc8c5c9c>\u001b[0m in \u001b[0;36m<module>\u001b[1;34m\u001b[0m\n\u001b[0;32m      9\u001b[0m \u001b[1;32mfrom\u001b[0m \u001b[0mtqdm\u001b[0m \u001b[1;32mimport\u001b[0m \u001b[0mtqdm_notebook\u001b[0m\u001b[1;33m\u001b[0m\u001b[0m\n\u001b[0;32m     10\u001b[0m \u001b[1;33m\u001b[0m\u001b[0m\n\u001b[1;32m---> 11\u001b[1;33m \u001b[0mdata\u001b[0m \u001b[1;33m=\u001b[0m \u001b[0mpd\u001b[0m\u001b[1;33m.\u001b[0m\u001b[0mread_csv\u001b[0m\u001b[1;33m(\u001b[0m\u001b[1;34m'content/train_labels.csv'\u001b[0m\u001b[1;33m)\u001b[0m\u001b[1;33m\u001b[0m\u001b[0m\n\u001b[0m\u001b[0;32m     12\u001b[0m \u001b[0mtrain_path\u001b[0m \u001b[1;33m=\u001b[0m \u001b[1;34m'content/train/'\u001b[0m\u001b[1;33m\u001b[0m\u001b[0m\n\u001b[0;32m     13\u001b[0m \u001b[0mtest_path\u001b[0m \u001b[1;33m=\u001b[0m \u001b[1;34m'content/test/'\u001b[0m\u001b[1;33m\u001b[0m\u001b[0m\n",
      "\u001b[1;32md:\\pycharm\\dmsp\\venv\\lib\\site-packages\\pandas\\io\\parsers.py\u001b[0m in \u001b[0;36mparser_f\u001b[1;34m(filepath_or_buffer, sep, delimiter, header, names, index_col, usecols, squeeze, prefix, mangle_dupe_cols, dtype, engine, converters, true_values, false_values, skipinitialspace, skiprows, skipfooter, nrows, na_values, keep_default_na, na_filter, verbose, skip_blank_lines, parse_dates, infer_datetime_format, keep_date_col, date_parser, dayfirst, cache_dates, iterator, chunksize, compression, thousands, decimal, lineterminator, quotechar, quoting, doublequote, escapechar, comment, encoding, dialect, error_bad_lines, warn_bad_lines, delim_whitespace, low_memory, memory_map, float_precision)\u001b[0m\n\u001b[0;32m    683\u001b[0m         )\n\u001b[0;32m    684\u001b[0m \u001b[1;33m\u001b[0m\u001b[0m\n\u001b[1;32m--> 685\u001b[1;33m         \u001b[1;32mreturn\u001b[0m \u001b[0m_read\u001b[0m\u001b[1;33m(\u001b[0m\u001b[0mfilepath_or_buffer\u001b[0m\u001b[1;33m,\u001b[0m \u001b[0mkwds\u001b[0m\u001b[1;33m)\u001b[0m\u001b[1;33m\u001b[0m\u001b[0m\n\u001b[0m\u001b[0;32m    686\u001b[0m \u001b[1;33m\u001b[0m\u001b[0m\n\u001b[0;32m    687\u001b[0m     \u001b[0mparser_f\u001b[0m\u001b[1;33m.\u001b[0m\u001b[0m__name__\u001b[0m \u001b[1;33m=\u001b[0m \u001b[0mname\u001b[0m\u001b[1;33m\u001b[0m\u001b[0m\n",
      "\u001b[1;32md:\\pycharm\\dmsp\\venv\\lib\\site-packages\\pandas\\io\\parsers.py\u001b[0m in \u001b[0;36m_read\u001b[1;34m(filepath_or_buffer, kwds)\u001b[0m\n\u001b[0;32m    455\u001b[0m \u001b[1;33m\u001b[0m\u001b[0m\n\u001b[0;32m    456\u001b[0m     \u001b[1;31m# Create the parser.\u001b[0m\u001b[1;33m\u001b[0m\u001b[1;33m\u001b[0m\u001b[0m\n\u001b[1;32m--> 457\u001b[1;33m     \u001b[0mparser\u001b[0m \u001b[1;33m=\u001b[0m \u001b[0mTextFileReader\u001b[0m\u001b[1;33m(\u001b[0m\u001b[0mfp_or_buf\u001b[0m\u001b[1;33m,\u001b[0m \u001b[1;33m**\u001b[0m\u001b[0mkwds\u001b[0m\u001b[1;33m)\u001b[0m\u001b[1;33m\u001b[0m\u001b[0m\n\u001b[0m\u001b[0;32m    458\u001b[0m \u001b[1;33m\u001b[0m\u001b[0m\n\u001b[0;32m    459\u001b[0m     \u001b[1;32mif\u001b[0m \u001b[0mchunksize\u001b[0m \u001b[1;32mor\u001b[0m \u001b[0miterator\u001b[0m\u001b[1;33m:\u001b[0m\u001b[1;33m\u001b[0m\u001b[0m\n",
      "\u001b[1;32md:\\pycharm\\dmsp\\venv\\lib\\site-packages\\pandas\\io\\parsers.py\u001b[0m in \u001b[0;36m__init__\u001b[1;34m(self, f, engine, **kwds)\u001b[0m\n\u001b[0;32m    893\u001b[0m             \u001b[0mself\u001b[0m\u001b[1;33m.\u001b[0m\u001b[0moptions\u001b[0m\u001b[1;33m[\u001b[0m\u001b[1;34m\"has_index_names\"\u001b[0m\u001b[1;33m]\u001b[0m \u001b[1;33m=\u001b[0m \u001b[0mkwds\u001b[0m\u001b[1;33m[\u001b[0m\u001b[1;34m\"has_index_names\"\u001b[0m\u001b[1;33m]\u001b[0m\u001b[1;33m\u001b[0m\u001b[0m\n\u001b[0;32m    894\u001b[0m \u001b[1;33m\u001b[0m\u001b[0m\n\u001b[1;32m--> 895\u001b[1;33m         \u001b[0mself\u001b[0m\u001b[1;33m.\u001b[0m\u001b[0m_make_engine\u001b[0m\u001b[1;33m(\u001b[0m\u001b[0mself\u001b[0m\u001b[1;33m.\u001b[0m\u001b[0mengine\u001b[0m\u001b[1;33m)\u001b[0m\u001b[1;33m\u001b[0m\u001b[0m\n\u001b[0m\u001b[0;32m    896\u001b[0m \u001b[1;33m\u001b[0m\u001b[0m\n\u001b[0;32m    897\u001b[0m     \u001b[1;32mdef\u001b[0m \u001b[0mclose\u001b[0m\u001b[1;33m(\u001b[0m\u001b[0mself\u001b[0m\u001b[1;33m)\u001b[0m\u001b[1;33m:\u001b[0m\u001b[1;33m\u001b[0m\u001b[0m\n",
      "\u001b[1;32md:\\pycharm\\dmsp\\venv\\lib\\site-packages\\pandas\\io\\parsers.py\u001b[0m in \u001b[0;36m_make_engine\u001b[1;34m(self, engine)\u001b[0m\n\u001b[0;32m   1133\u001b[0m     \u001b[1;32mdef\u001b[0m \u001b[0m_make_engine\u001b[0m\u001b[1;33m(\u001b[0m\u001b[0mself\u001b[0m\u001b[1;33m,\u001b[0m \u001b[0mengine\u001b[0m\u001b[1;33m=\u001b[0m\u001b[1;34m\"c\"\u001b[0m\u001b[1;33m)\u001b[0m\u001b[1;33m:\u001b[0m\u001b[1;33m\u001b[0m\u001b[0m\n\u001b[0;32m   1134\u001b[0m         \u001b[1;32mif\u001b[0m \u001b[0mengine\u001b[0m \u001b[1;33m==\u001b[0m \u001b[1;34m\"c\"\u001b[0m\u001b[1;33m:\u001b[0m\u001b[1;33m\u001b[0m\u001b[0m\n\u001b[1;32m-> 1135\u001b[1;33m             \u001b[0mself\u001b[0m\u001b[1;33m.\u001b[0m\u001b[0m_engine\u001b[0m \u001b[1;33m=\u001b[0m \u001b[0mCParserWrapper\u001b[0m\u001b[1;33m(\u001b[0m\u001b[0mself\u001b[0m\u001b[1;33m.\u001b[0m\u001b[0mf\u001b[0m\u001b[1;33m,\u001b[0m \u001b[1;33m**\u001b[0m\u001b[0mself\u001b[0m\u001b[1;33m.\u001b[0m\u001b[0moptions\u001b[0m\u001b[1;33m)\u001b[0m\u001b[1;33m\u001b[0m\u001b[0m\n\u001b[0m\u001b[0;32m   1136\u001b[0m         \u001b[1;32melse\u001b[0m\u001b[1;33m:\u001b[0m\u001b[1;33m\u001b[0m\u001b[0m\n\u001b[0;32m   1137\u001b[0m             \u001b[1;32mif\u001b[0m \u001b[0mengine\u001b[0m \u001b[1;33m==\u001b[0m \u001b[1;34m\"python\"\u001b[0m\u001b[1;33m:\u001b[0m\u001b[1;33m\u001b[0m\u001b[0m\n",
      "\u001b[1;32md:\\pycharm\\dmsp\\venv\\lib\\site-packages\\pandas\\io\\parsers.py\u001b[0m in \u001b[0;36m__init__\u001b[1;34m(self, src, **kwds)\u001b[0m\n\u001b[0;32m   1915\u001b[0m         \u001b[0mkwds\u001b[0m\u001b[1;33m[\u001b[0m\u001b[1;34m\"usecols\"\u001b[0m\u001b[1;33m]\u001b[0m \u001b[1;33m=\u001b[0m \u001b[0mself\u001b[0m\u001b[1;33m.\u001b[0m\u001b[0musecols\u001b[0m\u001b[1;33m\u001b[0m\u001b[0m\n\u001b[0;32m   1916\u001b[0m \u001b[1;33m\u001b[0m\u001b[0m\n\u001b[1;32m-> 1917\u001b[1;33m         \u001b[0mself\u001b[0m\u001b[1;33m.\u001b[0m\u001b[0m_reader\u001b[0m \u001b[1;33m=\u001b[0m \u001b[0mparsers\u001b[0m\u001b[1;33m.\u001b[0m\u001b[0mTextReader\u001b[0m\u001b[1;33m(\u001b[0m\u001b[0msrc\u001b[0m\u001b[1;33m,\u001b[0m \u001b[1;33m**\u001b[0m\u001b[0mkwds\u001b[0m\u001b[1;33m)\u001b[0m\u001b[1;33m\u001b[0m\u001b[0m\n\u001b[0m\u001b[0;32m   1918\u001b[0m         \u001b[0mself\u001b[0m\u001b[1;33m.\u001b[0m\u001b[0munnamed_cols\u001b[0m \u001b[1;33m=\u001b[0m \u001b[0mself\u001b[0m\u001b[1;33m.\u001b[0m\u001b[0m_reader\u001b[0m\u001b[1;33m.\u001b[0m\u001b[0munnamed_cols\u001b[0m\u001b[1;33m\u001b[0m\u001b[0m\n\u001b[0;32m   1919\u001b[0m \u001b[1;33m\u001b[0m\u001b[0m\n",
      "\u001b[1;32mpandas/_libs/parsers.pyx\u001b[0m in \u001b[0;36mpandas._libs.parsers.TextReader.__cinit__\u001b[1;34m()\u001b[0m\n",
      "\u001b[1;32mpandas/_libs/parsers.pyx\u001b[0m in \u001b[0;36mpandas._libs.parsers.TextReader._setup_parser_source\u001b[1;34m()\u001b[0m\n",
      "\u001b[1;31mFileNotFoundError\u001b[0m: [Errno 2] File b'content/train_labels.csv' does not exist: b'content/train_labels.csv'"
     ],
     "ename": "FileNotFoundError",
     "evalue": "[Errno 2] File b'content/train_labels.csv' does not exist: b'content/train_labels.csv'",
     "output_type": "error"
    }
   ],
   "source": [
    "import numpy as np\n",
    "import pandas as pd\n",
    "import os\n",
    "import cv2\n",
    "import matplotlib.pyplot as plt\n",
    "import matplotlib.patches as patches\n",
    "import random\n",
    "from sklearn.utils import shuffle\n",
    "from tqdm import tqdm_notebook\n",
    "\n",
    "data = pd.read_csv('content/train_labels.csv')\n",
    "train_path = 'content/train/'\n",
    "test_path = 'content/test/'\n",
    "# quick look at the label stats\n",
    "data['label'].value_counts()\n",
    "print(type(data['label'][0]))"
   ]
  },
  {
   "cell_type": "code",
   "execution_count": null,
   "metadata": {
    "colab": {},
    "colab_type": "code",
    "id": "xkXZ75WSqCtA",
    "pycharm": {
     "is_executing": false
    }
   },
   "outputs": [],
   "source": [
    "def readImage(path):\n",
    "    # OpenCV reads the image in bgr format by default\n",
    "    print(path)\n",
    "    bgr_img = cv2.imread(path)\n",
    "    # We flip it to rgb for visualization purposes\n",
    "    b,g,r = cv2.split(bgr_img)\n",
    "    rgb_img = cv2.merge([r,g,b])\n",
    "    return rgb_img\n",
    "\n",
    "# random sampling\n",
    "shuffled_data = shuffle(data)\n",
    "\n",
    "fig, ax = plt.subplots(2,5, figsize=(20,8))\n",
    "fig.suptitle('Histopathologic scans of lymph node sections',fontsize=20)\n",
    "# Negatives\n",
    "for i, idx in enumerate(shuffled_data[shuffled_data['label'] == 0]['id'][:5]):\n",
    "    path = os.path.join(train_path, idx)\n",
    "    ax[0,i].imshow(readImage(path + '.tif'))\n",
    "    # Create a Rectangle patch\n",
    "    box = patches.Rectangle((32,32),32,32,linewidth=4,edgecolor='b',facecolor='none', linestyle=':', capstyle='round')\n",
    "    ax[0,i].add_patch(box)\n",
    "ax[0,0].set_ylabel('Negative samples', size='large')\n",
    "# Positives\n",
    "for i, idx in enumerate(shuffled_data[shuffled_data['label'] == 1]['id'][:5]):\n",
    "    path = os.path.join(train_path, idx)\n",
    "    ax[1,i].imshow(readImage(path + '.tif'))\n",
    "    # Create a Rectangle patch\n",
    "    box = patches.Rectangle((32,32),32,32,linewidth=4,edgecolor='r',facecolor='none', linestyle=':', capstyle='round')\n",
    "    ax[1,i].add_patch(box)\n",
    "ax[1,0].set_ylabel('Tumor tissue samples', size='large')\n"
   ]
  },
  {
   "cell_type": "code",
   "execution_count": null,
   "metadata": {
    "colab": {},
    "colab_type": "code",
    "id": "_N77Jbv2qCtV",
    "outputId": "9c53d4cf-0df8-40d2-eca1-e95b4e5c5015",
    "pycharm": {
     "is_executing": false
    }
   },
   "outputs": [],
   "source": [
    "##### Essai pour explorer les données\n",
    "print(i,idx)\n",
    "print(readImage(path + '.tif').shape)\n",
    "print(readImage(path + '.tif')[0,2,:])\n",
    "myCmd = 'du '+ path + '.tif'\n",
    "#myCmd = os.popen('ls -la').read()\n",
    "#myCmd2=\"ls\"\n",
    "#os.system(myCmd)\n",
    "#os.system(myCmd2)\n",
    "import subprocess\n",
    "#subprocess.run([\"ls\", \"-l\", \"/dev/null\"])# ,shell=True, check=True) # , capture_output=True)\n",
    "#subprocess.call(\"ls\")\n",
    "#subprocess.call([\"ls\", \"-l\", \".\"])\n",
    "\"\"\"MyOut = subprocess.Popen(['du', \".\"], \n",
    "            stdout=subprocess.PIPE, \n",
    "            stderr=subprocess.STDOUT)\n",
    "stdout,stderr = MyOut.communicate()\n",
    "print(\"stdout\",stdout)\n",
    "print(\"stderr\",stderr)\"\"\""
   ]
  },
  {
   "cell_type": "code",
   "execution_count": null,
   "metadata": {
    "colab": {},
    "colab_type": "code",
    "id": "BHpm4tC5qCti",
    "pycharm": {
     "is_executing": false
    }
   },
   "outputs": [],
   "source": [
    "import random\n",
    "ORIGINAL_SIZE = 96      # original size of the images - do not change\n",
    "\n",
    "# AUGMENTATION VARIABLES\n",
    "CROP_SIZE = 90          # final size after crop\n",
    "RANDOM_ROTATION = 3    # range (0-180), 180 allows all rotation variations, 0=no change\n",
    "RANDOM_SHIFT = 2        # center crop shift in x and y axes, 0=no change. This cannot be more than (ORIGINAL_SIZE - CROP_SIZE)//2 \n",
    "RANDOM_BRIGHTNESS = 7  # range (0-100), 0=no change\n",
    "RANDOM_CONTRAST = 5    # range (0-100), 0=no change\n",
    "RANDOM_90_DEG_TURN = 1  # 0 or 1= random turn to left or right\n",
    "\n",
    "def readCroppedImage(path, augmentations = True):\n",
    "    # augmentations parameter is included for counting statistics from images, where we don't want augmentations\n",
    "    \n",
    "    # OpenCV reads the image in bgr format by default\n",
    "    bgr_img = cv2.imread(path)\n",
    "    # We flip it to rgb for visualization purposes\n",
    "    b,g,r = cv2.split(bgr_img)\n",
    "    rgb_img = cv2.merge([r,g,b])\n",
    "    \n",
    "    if(not augmentations):\n",
    "        return rgb_img / 255\n",
    "    \n",
    "    #random rotation\n",
    "    rotation = random.randint(-RANDOM_ROTATION,RANDOM_ROTATION)\n",
    "    if(RANDOM_90_DEG_TURN == 1):\n",
    "        rotation += random.randint(-1,1) * 90\n",
    "    M = cv2.getRotationMatrix2D((48,48),rotation,1)   # the center point is the rotation anchor\n",
    "    rgb_img = cv2.warpAffine(rgb_img,M,(96,96))\n",
    "    \n",
    "    #random x,y-shift\n",
    "    x = random.randint(-RANDOM_SHIFT, RANDOM_SHIFT)\n",
    "    y = random.randint(-RANDOM_SHIFT, RANDOM_SHIFT)\n",
    "    \n",
    "    # crop to center and normalize to 0-1 range\n",
    "    start_crop = (ORIGINAL_SIZE - CROP_SIZE) // 2\n",
    "    end_crop = start_crop + CROP_SIZE\n",
    "    rgb_img = rgb_img[(start_crop + x):(end_crop + x), (start_crop + y):(end_crop + y)] / 255\n",
    "    \n",
    "    # Random flip\n",
    "    flip_hor = bool(random.getrandbits(1))\n",
    "    flip_ver = bool(random.getrandbits(1))\n",
    "    if(flip_hor):\n",
    "        rgb_img = rgb_img[:, ::-1]\n",
    "    if(flip_ver):\n",
    "        rgb_img = rgb_img[::-1, :]\n",
    "        \n",
    "    # Random brightness\n",
    "    br = random.randint(-RANDOM_BRIGHTNESS, RANDOM_BRIGHTNESS) / 100.\n",
    "    rgb_img = rgb_img + br\n",
    "    \n",
    "    # Random contrast\n",
    "    cr = 1.0 + random.randint(-RANDOM_CONTRAST, RANDOM_CONTRAST) / 100.\n",
    "    rgb_img = rgb_img * cr\n",
    "    \n",
    "    # clip values to 0-1 range\n",
    "    rgb_img = np.clip(rgb_img, 0, 1.0)\n",
    "    \n",
    "    return rgb_img"
   ]
  },
  {
   "cell_type": "code",
   "execution_count": null,
   "metadata": {
    "colab": {},
    "colab_type": "code",
    "id": "zgpSw1djqCty",
    "outputId": "8ecdbd8a-644a-4375-fa2c-c09c1a56a713",
    "pycharm": {
     "is_executing": false
    }
   },
   "outputs": [],
   "source": [
    "fig, ax = plt.subplots(1,5, figsize=(20,4))\n",
    "fig.suptitle('Random augmentations to the same image',fontsize=20)\n",
    "# Negatives\n",
    "for i, idx in enumerate(shuffled_data[shuffled_data['label'] == 0]['id'][:1]):\n",
    "    print(idx)\n",
    "    for j in range(5):\n",
    "        path = os.path.join(train_path, idx)\n",
    "        ax[j].imshow(readCroppedImage(path + '.tif'))"
   ]
  },
  {
   "cell_type": "code",
   "execution_count": null,
   "metadata": {
    "colab": {},
    "colab_type": "code",
    "id": "xUaDbX2iqCt-",
    "pycharm": {
     "is_executing": false
    }
   },
   "outputs": [],
   "source": []
  }
 ],
 "metadata": {
  "colab": {
   "name": "Visualise_data.ipynb",
   "provenance": []
  },
  "kernelspec": {
   "display_name": "Python 3",
   "language": "python",
   "name": "python3"
  },
  "language_info": {
   "codemirror_mode": {
    "name": "ipython",
    "version": 3
   },
   "file_extension": ".py",
   "mimetype": "text/x-python",
   "name": "python",
   "nbconvert_exporter": "python",
   "pygments_lexer": "ipython3",
   "version": "3.6.5"
  },
  "pycharm": {
   "stem_cell": {
    "cell_type": "raw",
    "source": [],
    "metadata": {
     "collapsed": false
    }
   }
  }
 },
 "nbformat": 4,
 "nbformat_minor": 1
}